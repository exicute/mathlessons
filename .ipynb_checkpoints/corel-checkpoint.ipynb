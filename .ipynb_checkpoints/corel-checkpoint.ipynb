{
 "cells": [
  {
   "cell_type": "code",
   "execution_count": 27,
   "id": "fef3b3fb",
   "metadata": {},
   "outputs": [],
   "source": [
    "import pandas as pd\n",
    "import numpy as np\n",
    "from scipy.stats import pearsonr\n",
    "import matplotlib.pyplot as plt"
   ]
  },
  {
   "cell_type": "code",
   "execution_count": 18,
   "id": "2480fe03",
   "metadata": {},
   "outputs": [],
   "source": [
    "p11 = np.repeat(np.array([[22.5, 9]]), 2, axis=0)\n",
    "p12 = np.array([[22.5, 13]])\n",
    "p21 = np.repeat(np.array([[27.5, 9]]), 3, axis=0)\n",
    "p22 = np.repeat(np.array([[27.5, 13]]), 6, axis=0)\n",
    "p23 = np.repeat(np.array([[27.5, 17]]), 4, axis=0)\n",
    "p32 = np.repeat(np.array([[32.5, 13]]), 3, axis=0)\n",
    "p33 = np.repeat(np.array([[32.5, 17]]), 11, axis=0)\n",
    "p34 = np.repeat(np.array([[32.5, 21]]), 7, axis=0)\n",
    "p42 = np.repeat(np.array([[37.5, 13]]), 1, axis=0)\n",
    "p43 = np.repeat(np.array([[37.5, 17]]), 2, axis=0)\n",
    "p44 = np.repeat(np.array([[37.5, 21]]), 6, axis=0)\n",
    "p45 = np.repeat(np.array([[37.5, 25]]), 2, axis=0)\n",
    "p54 = np.array([[42.5, 21]])\n",
    "p55 = np.array([[42.5, 25]])\n",
    "coords = np.concatenate((p11, p12,\n",
    "                        p21, p22, p23,\n",
    "                        p32, p33, p34,\n",
    "                        p42, p43, p44, p45,\n",
    "                        p54, p55))"
   ]
  },
  {
   "cell_type": "code",
   "execution_count": 25,
   "id": "a5bc1cf7",
   "metadata": {},
   "outputs": [
    {
     "data": {
      "text/plain": [
       "<matplotlib.collections.PathCollection at 0x7f606d11adf0>"
      ]
     },
     "execution_count": 25,
     "metadata": {},
     "output_type": "execute_result"
    },
    {
     "data": {
      "image/png": "[encoded data removed]",
      "text/plain": [
       "<Figure size 432x288 with 1 Axes>"
      ]
     },
     "metadata": {
      "needs_background": "light"
     },
     "output_type": "display_data"
    }
   ],
   "source": [
    "x = coords[:, 0]\n",
    "y = coords[:, 1]\n",
    "plt.scatter(x, y)"
   ]
  },
  {
   "cell_type": "code",
   "execution_count": 32,
   "id": "626c20d4",
   "metadata": {},
   "outputs": [
    {
     "data": {
      "text/plain": [
       "(0.7400467488789702, 8.200420496323258e-10)"
      ]
     },
     "execution_count": 32,
     "metadata": {},
     "output_type": "execute_result"
    }
   ],
   "source": [
    "r = pearsonr(x, y)\n",
    "#r.confidence_interval()"
   ]
  },
  {
   "cell_type": "code",
   "execution_count": 33,
   "id": "514ccb4b",
   "metadata": {},
   "outputs": [
    {
     "data": {
      "text/plain": [
       "array([22.5, 22.5, 22.5, 27.5, 27.5, 27.5, 27.5, 27.5, 27.5, 27.5, 27.5,\n",
       "       27.5, 27.5, 27.5, 27.5, 27.5, 32.5, 32.5, 32.5, 32.5, 32.5, 32.5,\n",
       "       32.5, 32.5, 32.5, 32.5, 32.5, 32.5, 32.5, 32.5, 32.5, 32.5, 32.5,\n",
       "       32.5, 32.5, 32.5, 32.5, 37.5, 37.5, 37.5, 37.5, 37.5, 37.5, 37.5,\n",
       "       37.5, 37.5, 37.5, 37.5, 42.5, 42.5])"
      ]
     },
     "execution_count": 33,
     "metadata": {},
     "output_type": "execute_result"
    }
   ],
   "source": []
  },
  {
   "cell_type": "code",
   "execution_count": null,
   "id": "b3ba23ae",
   "metadata": {},
   "outputs": [],
   "source": []
  },
  {
   "cell_type": "code",
   "execution_count": null,
   "id": "460c55a7",
   "metadata": {},
   "outputs": [],
   "source": []
  },
  {
   "cell_type": "code",
   "execution_count": null,
   "id": "e982d4ca",
   "metadata": {},
   "outputs": [],
   "source": []
  },
  {
   "cell_type": "code",
   "execution_count": null,
   "id": "4b1adb00",
   "metadata": {},
   "outputs": [],
   "source": []
  },
  {
   "cell_type": "code",
   "execution_count": null,
   "id": "de1b6cf8",
   "metadata": {},
   "outputs": [],
   "source": []
  },
  {
   "cell_type": "code",
   "execution_count": null,
   "id": "199f5c39",
   "metadata": {},
   "outputs": [],
   "source": []
  },
  {
   "cell_type": "code",
   "execution_count": null,
   "id": "eb35ac2c",
   "metadata": {},
   "outputs": [],
   "source": []
  },
  {
   "cell_type": "code",
   "execution_count": null,
   "id": "9970d90b",
   "metadata": {},
   "outputs": [],
   "source": []
  },
  {
   "cell_type": "code",
   "execution_count": null,
   "id": "8f92f810",
   "metadata": {},
   "outputs": [],
   "source": []
  }
 ],
 "metadata": {
  "kernelspec": {
   "display_name": "Python 3",
   "language": "python",
   "name": "python3"
  },
  "language_info": {
   "codemirror_mode": {
    "name": "ipython",
    "version": 3
   },
   "file_extension": ".py",
   "mimetype": "text/x-python",
   "name": "python",
   "nbconvert_exporter": "python",
   "pygments_lexer": "ipython3",
   "version": "3.9.9"
  }
 },
 "nbformat": 4,
 "nbformat_minor": 5
}
