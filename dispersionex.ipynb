{
 "cells": [
  {
   "cell_type": "code",
   "execution_count": 2,
   "id": "7f5729cb",
   "metadata": {},
   "outputs": [],
   "source": [
    "import pandas as pd\n",
    "import numpy as np\n",
    "from scipy.stats import f_oneway\n",
    "import statsmodels.api as sm\n",
    "from statsmodels.formula.api import ols"
   ]
  },
  {
   "cell_type": "code",
   "execution_count": 2,
   "id": "c25ae96a",
   "metadata": {},
   "outputs": [],
   "source": [
    "a1 = np.array([1.2, 1.1, 1, 1.3, 1.1, 0.8])\n",
    "a2 = np.array([0.6, 1.1, 0.8, 0.7, 0.7, 0.9])\n",
    "a3 = np.array([0.9, 0.6, 0.8, 1.0, 1.0, 1.1])\n",
    "a4 = np.array([1.7, 1.4, 1.3, 1.5, 1.2, 1.3])\n",
    "a5 = np.array([1, 1.4, 1.1, 0.9, 1.2, 1.5])"
   ]
  },
  {
   "cell_type": "code",
   "execution_count": 3,
   "id": "d2edd994",
   "metadata": {},
   "outputs": [
    {
     "data": {
      "text/plain": [
       "F_onewayResult(statistic=9.354089219330852, pvalue=9.164237796546103e-05)"
      ]
     },
     "execution_count": 3,
     "metadata": {},
     "output_type": "execute_result"
    }
   ],
   "source": [
    "f_oneway(a1, a2, a3, a4, a5)"
   ]
  },
  {
   "cell_type": "code",
   "execution_count": 6,
   "id": "41c9c5b8",
   "metadata": {},
   "outputs": [],
   "source": [
    "line1 = np.array([0.6, 0.2, 0.4, 0.5, 0.8, 0.2, 0.1, 0.6, 0.8, 0.8])\n",
    "line2 = np.array([0.2, 0.2, 0.4, 0.3, 0.3, 0.6, 0.8, 0.2, 0.5, 0.5])\n",
    "line3 = np.array([0.8, 0.6, 0.2, 0.4, 0.9, 1.1, 0.8, 0.2, 0.4, 0.8])\n",
    "line4 = np.array([0.7, 0.7, 0.3, 0.3, 0.2, 0.8, 0.6, 0.4, 0.2, 0.6])"
   ]
  },
  {
   "cell_type": "code",
   "execution_count": 7,
   "id": "260ab6e9",
   "metadata": {},
   "outputs": [
    {
     "data": {
      "text/plain": [
       "F_onewayResult(statistic=1.28719723183391, pvalue=0.2935538759925776)"
      ]
     },
     "execution_count": 7,
     "metadata": {},
     "output_type": "execute_result"
    }
   ],
   "source": [
    "f_oneway(line1, line2, line3, line4)"
   ]
  },
  {
   "cell_type": "code",
   "execution_count": 3,
   "id": "70017ddd",
   "metadata": {},
   "outputs": [],
   "source": [
    "yieldsdf = pd.DataFrame({'урожайность':np.repeat([1, 2, 3 ,4 ,5], 4),\n",
    "                        'сорт':np.tile([1, 2, 3, 4], 5),\n",
    "                        'data':[2.87, 2.45, 2.32, 2.90, 2.67, 2.85, 2.47, 2.87, 2.16,\n",
    "                               2.77, 2, 2.25, 2.5, 2.87, 2.4, 2.8, 2.82,\n",
    "                               3.25, 2.4, 2.7]})"
   ]
  },
  {
   "cell_type": "code",
   "execution_count": 9,
   "id": "cdc60184",
   "metadata": {
    "scrolled": true
   },
   "outputs": [
    {
     "data": {
      "text/html": [
       "<div>\n",
       "<style scoped>\n",
       "    .dataframe tbody tr th:only-of-type {\n",
       "        vertical-align: middle;\n",
       "    }\n",
       "\n",
       "    .dataframe tbody tr th {\n",
       "        vertical-align: top;\n",
       "    }\n",
       "\n",
       "    .dataframe thead th {\n",
       "        text-align: right;\n",
       "    }\n",
       "</style>\n",
       "<table border=\"1\" class=\"dataframe\">\n",
       "  <thead>\n",
       "    <tr style=\"text-align: right;\">\n",
       "      <th></th>\n",
       "      <th>sum_sq</th>\n",
       "      <th>df</th>\n",
       "      <th>F</th>\n",
       "      <th>PR(&gt;F)</th>\n",
       "    </tr>\n",
       "  </thead>\n",
       "  <tbody>\n",
       "    <tr>\n",
       "      <th>C(урожайность)</th>\n",
       "      <td>0.58023</td>\n",
       "      <td>4.0</td>\n",
       "      <td>3.519603</td>\n",
       "      <td>0.040241</td>\n",
       "    </tr>\n",
       "    <tr>\n",
       "      <th>C(сорт)</th>\n",
       "      <td>0.72988</td>\n",
       "      <td>3.0</td>\n",
       "      <td>5.903148</td>\n",
       "      <td>0.010289</td>\n",
       "    </tr>\n",
       "    <tr>\n",
       "      <th>Residual</th>\n",
       "      <td>0.49457</td>\n",
       "      <td>12.0</td>\n",
       "      <td>NaN</td>\n",
       "      <td>NaN</td>\n",
       "    </tr>\n",
       "  </tbody>\n",
       "</table>\n",
       "</div>"
      ],
      "text/plain": [
       "                 sum_sq    df         F    PR(>F)\n",
       "C(урожайность)  0.58023   4.0  3.519603  0.040241\n",
       "C(сорт)         0.72988   3.0  5.903148  0.010289\n",
       "Residual        0.49457  12.0       NaN       NaN"
      ]
     },
     "execution_count": 9,
     "metadata": {},
     "output_type": "execute_result"
    }
   ],
   "source": [
    "model = ols(formula='data ~ C(урожайность) + C(сорт)', data=yieldsdf).fit()\n",
    "sm.stats.anova_lm(model, typ=2)"
   ]
  },
  {
   "cell_type": "code",
   "execution_count": 10,
   "id": "09bb1e07",
   "metadata": {},
   "outputs": [
    {
     "data": {
      "text/plain": [
       "array([1, 2, 3, 4, 1, 2, 3, 4, 1, 2, 3, 4, 1, 2, 3, 4, 1, 2, 3, 4])"
      ]
     },
     "execution_count": 10,
     "metadata": {},
     "output_type": "execute_result"
    }
   ],
   "source": []
  },
  {
   "cell_type": "code",
   "execution_count": null,
   "id": "99baa68e",
   "metadata": {},
   "outputs": [],
   "source": []
  },
  {
   "cell_type": "code",
   "execution_count": null,
   "id": "c0cef49f",
   "metadata": {},
   "outputs": [],
   "source": []
  }
 ],
 "metadata": {
  "kernelspec": {
   "display_name": "Python 3",
   "language": "python",
   "name": "python3"
  },
  "language_info": {
   "codemirror_mode": {
    "name": "ipython",
    "version": 3
   },
   "file_extension": ".py",
   "mimetype": "text/x-python",
   "name": "python",
   "nbconvert_exporter": "python",
   "pygments_lexer": "ipython3",
   "version": "3.9.9"
  }
 },
 "nbformat": 4,
 "nbformat_minor": 5
}
