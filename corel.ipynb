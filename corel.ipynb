{
 "cells": [
  {
   "cell_type": "code",
   "execution_count": 1,
   "id": "4df01457",
   "metadata": {},
   "outputs": [],
   "source": [
    "import pandas as pd\n",
    "import numpy as np\n",
    "from scipy.stats import pearsonr\n",
    "import matplotlib.pyplot as plt\n",
    "import seaborn as sns"
   ]
  },
  {
   "cell_type": "markdown",
   "id": "605d4a58",
   "metadata": {},
   "source": [
    "## Упражнение 12.14"
   ]
  },
  {
   "cell_type": "code",
   "execution_count": 2,
   "id": "2ec8f2cd",
   "metadata": {},
   "outputs": [],
   "source": [
    "p11 = np.repeat(np.array([[0, 0]]), 4, axis=0)\n",
    "p12 = np.array([[4.5, 0]])\n",
    "p21 = np.repeat(np.array([[0, 1.4]]), 4, axis=0)\n",
    "p22 = np.repeat(np.array([[4.5, 1.4]]), 2, axis=0)\n",
    "p31 = np.repeat(np.array([[0, 2.8]]), 2, axis=0)\n",
    "p32 = np.repeat(np.array([[4.5, 2.8]]), 8, axis=0)\n",
    "p33 = np.array([[9, 2.8]])\n",
    "p41 = np.array([[4.5, 4.2]])\n",
    "p42 = np.repeat(np.array([[9, 4.2]]), 20, axis=0)\n",
    "p43 = np.repeat(np.array([[13.5, 4.5]]), 4, axis=0)\n",
    "p51 = np.repeat(np.array([[9, 5.6]]), 3, axis=0)\n",
    "p52 = np.repeat(np.array([[13.5, 5.6]]), 3, axis=0)\n",
    "p53 = np.repeat(np.array([[18, 5.6]]), 3, axis=0)\n",
    "p61 = np.array([[13.5, 7]])\n",
    "p62 = np.repeat(np.array([[18, 7]]), 3, axis=0)\n",
    "coords = np.concatenate((p11, p12,\n",
    "                        p21, p22,\n",
    "                        p31, p32, p33,\n",
    "                        p41, p42, p43,\n",
    "                        p51, p52, p53,\n",
    "                        p61, p62))"
   ]
  },
  {
   "cell_type": "code",
   "execution_count": 3,
   "id": "0f722e88",
   "metadata": {},
   "outputs": [],
   "source": [
    "df = pd.DataFrame({'X':coords[:,0], 'Y':coords[:,1]})"
   ]
  },
  {
   "cell_type": "code",
   "execution_count": 4,
   "id": "4d627e61",
   "metadata": {
    "scrolled": true
   },
   "outputs": [],
   "source": [
    "x_mean = df.groupby(['X'], as_index=False).mean()\n",
    "y_mean = df.groupby(['Y'], as_index=False).mean()"
   ]
  },
  {
   "cell_type": "code",
   "execution_count": 5,
   "id": "dd01ed79",
   "metadata": {},
   "outputs": [],
   "source": [
    "x_mean['type_coord'] = 'x_coord'\n",
    "emp_lines = pd.concat([x_mean, y_mean], ignore_index=True)\n",
    "emp_lines = emp_lines.fillna('y_coord')"
   ]
  },
  {
   "cell_type": "code",
   "execution_count": 6,
   "id": "68e177e3",
   "metadata": {
    "scrolled": true
   },
   "outputs": [
    {
     "data": {
      "text/plain": [
       "<AxesSubplot:xlabel='X', ylabel='Y'>"
      ]
     },
     "execution_count": 6,
     "metadata": {},
     "output_type": "execute_result"
    },
    {
     "data": {
      "image/png": "[encoded data removed]",
      "text/plain": [
       "<Figure size 432x288 with 1 Axes>"
      ]
     },
     "metadata": {},
     "output_type": "display_data"
    }
   ],
   "source": [
    "sns.set_style('whitegrid')\n",
    "sns.lineplot(data=emp_lines, x='X', y='Y', hue='type_coord')"
   ]
  },
  {
   "cell_type": "code",
   "execution_count": 7,
   "id": "cf67fab2",
   "metadata": {},
   "outputs": [
    {
     "ename": "AttributeError",
     "evalue": "'tuple' object has no attribute 'confidence_interval'",
     "output_type": "error",
     "traceback": [
      "\u001b[0;31m---------------------------------------------------------------------------\u001b[0m",
      "\u001b[0;31mAttributeError\u001b[0m                            Traceback (most recent call last)",
      "\u001b[0;32m/tmp/ipykernel_3963/3254378712.py\u001b[0m in \u001b[0;36m<module>\u001b[0;34m\u001b[0m\n\u001b[1;32m      1\u001b[0m \u001b[0mr\u001b[0m \u001b[0;34m=\u001b[0m \u001b[0mpearsonr\u001b[0m\u001b[0;34m(\u001b[0m\u001b[0mdf\u001b[0m\u001b[0;34m.\u001b[0m\u001b[0mX\u001b[0m\u001b[0;34m,\u001b[0m \u001b[0mdf\u001b[0m\u001b[0;34m.\u001b[0m\u001b[0mY\u001b[0m\u001b[0;34m)\u001b[0m\u001b[0;34m\u001b[0m\u001b[0;34m\u001b[0m\u001b[0m\n\u001b[0;32m----> 2\u001b[0;31m \u001b[0mr_interval\u001b[0m \u001b[0;34m=\u001b[0m \u001b[0mr\u001b[0m\u001b[0;34m.\u001b[0m\u001b[0mconfidence_interval\u001b[0m\u001b[0;34m(\u001b[0m\u001b[0mconfidence_level\u001b[0m\u001b[0;34m=\u001b[0m\u001b[0;36m0.95\u001b[0m\u001b[0;34m)\u001b[0m\u001b[0;34m\u001b[0m\u001b[0;34m\u001b[0m\u001b[0m\n\u001b[0m",
      "\u001b[0;31mAttributeError\u001b[0m: 'tuple' object has no attribute 'confidence_interval'"
     ]
    }
   ],
   "source": [
    "r = pearsonr(df.X, df.Y)\n",
    "r_interval = r.confidence_interval(confidence_level=0.95)"
   ]
  },
  {
   "cell_type": "code",
   "execution_count": 8,
   "id": "ed365474",
   "metadata": {},
   "outputs": [
    {
     "data": {
      "text/plain": [
       "tuple"
      ]
     },
     "execution_count": 8,
     "metadata": {},
     "output_type": "execute_result"
    }
   ],
   "source": []
  },
  {
   "cell_type": "code",
   "execution_count": null,
   "id": "57c48e59",
   "metadata": {},
   "outputs": [],
   "source": []
  },
  {
   "cell_type": "code",
   "execution_count": null,
   "id": "49a927c6",
   "metadata": {},
   "outputs": [],
   "source": []
  },
  {
   "cell_type": "code",
   "execution_count": null,
   "id": "eea261d0",
   "metadata": {},
   "outputs": [],
   "source": []
  },
  {
   "cell_type": "code",
   "execution_count": null,
   "id": "5ee49de3",
   "metadata": {},
   "outputs": [],
   "source": []
  }
 ],
 "metadata": {
  "kernelspec": {
   "display_name": "Python 3 (ipykernel)",
   "language": "python",
   "name": "python3"
  },
  "language_info": {
   "codemirror_mode": {
    "name": "ipython",
    "version": 3
   },
   "file_extension": ".py",
   "mimetype": "text/x-python",
   "name": "python",
   "nbconvert_exporter": "python",
   "pygments_lexer": "ipython3",
   "version": "3.9.7"
  }
 },
 "nbformat": 4,
 "nbformat_minor": 5
}
